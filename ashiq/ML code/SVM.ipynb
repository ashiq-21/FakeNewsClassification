{
  "nbformat": 4,
  "nbformat_minor": 0,
  "metadata": {
    "colab": {
      "provenance": []
    },
    "kernelspec": {
      "name": "python3",
      "display_name": "Python 3"
    },
    "language_info": {
      "name": "python"
    }
  },
  "cells": [
    {
      "cell_type": "code",
      "execution_count": null,
      "metadata": {
        "colab": {
          "base_uri": "https://localhost:8080/"
        },
        "id": "7T_Wp35BH_V7",
        "outputId": "a9a26540-5873-4443-c1e0-90e0265670c0"
      },
      "outputs": [
        {
          "output_type": "stream",
          "name": "stdout",
          "text": [
            "[1]\n"
          ]
        }
      ],
      "source": [
        "from joblib import dump\n",
        "import numpy as np\n",
        "import pandas as pd\n",
        "from sklearn.feature_extraction.text import TfidfVectorizer\n",
        "from sklearn.svm import LinearSVC\n",
        "from sklearn.metrics import confusion_matrix, classification_report, accuracy_score\n",
        "from sklearn.model_selection import train_test_split\n",
        "\n",
        "# Load the dataset\n",
        "news_df = pd.read_csv(\"/content/drive/MyDrive/Capstone B/WELFake_Dataset.csv\")\n",
        "# Select relevant columns\n",
        "news_df = news_df[['text', 'label']]\n",
        "\n",
        "# Drop rows with missing values\n",
        "news_df_cleaned = news_df.dropna()\n",
        "\n",
        "# Split the dataset into training and testing sets\n",
        "y = news_df_cleaned['label']\n",
        "X_train, X_test, y_train, y_test = train_test_split(\n",
        "    news_df_cleaned['text'], y, test_size=0.20, random_state=19)\n",
        "\n",
        "# Create a TF-IDF vectorizer\n",
        "tfidf_vect = TfidfVectorizer(stop_words=\"english\", max_df=0.7)\n",
        "\n",
        "# Transform the training and testing data\n",
        "X_train_tfidf = tfidf_vect.fit_transform(X_train)\n",
        "X_test_tfidf = tfidf_vect.transform(X_test)\n",
        "\n",
        "# Create an SVM model\n",
        "model = LinearSVC()\n",
        "model.fit(X_train_tfidf, y_train)\n",
        "\n",
        "# Example of predicting with the trained SVM model\n",
        "news = [\"The left believes these are all perfectly acceptable topics to discuss with our young children. Whatever you do, just don t mention God!A public hearing is taking place Wednesday morning in the Massachusetts State House to look into a controversial sex survey given to middle school and high school students.Developed by the Centers for Disease Control and called the Youth Risk Behavior Survey, the survey asks students as young as 12 a series of very personal and highly ideological questions.The survey asks students if they are homosexual and if they are transgender. It also asks if they have had oral or anal sex and if they have performed such acts with up to six people.Whether or not they have carried a gun, smoked cigarettes, consumed alcohol and how much also appear on the questionnaire, as well as whether they have taken drugs, such as OxyContin, Percocet, and Vicodin. It asks how often their guardian uses a seat belt, if the youngster has a sexually transmitted disease, and where they sleep.The group MassResistance says the survey is psychologically distorting and will lead the child to think he is abnormal if he is not doing it all. The group stated that having children reveal personal issues about themselves and their family can have emotional consequences. They also complain that the survey results are used by radical groups from Planned Parenthood to LGBT groups to persuade politicians to give more taxpayer money [to] these groups. Though students fill out the survey anonymously, MassResistance warns that they are administered by the teacher in the classroom and there is often pressure for all kids to participate. The test is given nationally and not without controversy. The Chicago Tribune reported two years ago that a Chicago teacher was reprimanded for telling students they had a constitutional right not to fill out the survey.Via: Breitbart News\"]\n",
        "\n",
        "# Transform the new data using the same TF-IDF vectorizer\n",
        "news_tfidf = tfidf_vect.transform(news)\n",
        "\n",
        "# Predict using the SVM model\n",
        "prediction = model.predict(news_tfidf)\n",
        "\n",
        "print(prediction)\n"
      ]
    },
    {
      "cell_type": "code",
      "source": [
        "import matplotlib.pyplot as plt\n",
        "import seaborn as sns\n",
        "from sklearn.metrics import confusion_matrix\n",
        "\n",
        "# Evaluate the model on the test set\n",
        "y_pred = model.predict(X_test_tfidf)\n",
        "\n",
        "# Calculate confusion matrix\n",
        "cm = confusion_matrix(y_test, y_pred)\n",
        "\n",
        "# Plot confusion matrix\n",
        "plt.figure(figsize=(8, 8))\n",
        "sns.heatmap(cm, annot=True, fmt=\"d\", cmap=\"Blues\", cbar=False, annot_kws={\"size\": 16})\n",
        "plt.title('Confusion Matrix')\n",
        "plt.xlabel('Predicted')\n",
        "plt.ylabel('Actual')\n",
        "plt.show()\n"
      ],
      "metadata": {
        "colab": {
          "base_uri": "https://localhost:8080/",
          "height": 718
        },
        "id": "-0lgIbAyIuVM",
        "outputId": "1ffcae64-5854-4485-c22e-bcafe2db416e"
      },
      "execution_count": null,
      "outputs": [
        {
          "output_type": "display_data",
          "data": {
            "text/plain": [
              "<Figure size 800x800 with 1 Axes>"
            ],
            "image/png": "[encoded data removed]"
          },
          "metadata": {}
        }
      ]
    },
    {
      "cell_type": "code",
      "source": [
        "from sklearn.metrics import accuracy_score, precision_score, recall_score, f1_score\n",
        "\n",
        "# Predictions\n",
        "y_pred = model.predict(X_test_tfidf)\n",
        "\n",
        "# Accuracy\n",
        "accuracy = accuracy_score(y_test, y_pred)\n",
        "print(f'Accuracy: {accuracy}')\n",
        "\n",
        "# Precision\n",
        "precision = precision_score(y_test, y_pred, average='weighted')\n",
        "print(f'Precision: {precision}')\n",
        "\n",
        "# Recall\n",
        "recall = recall_score(y_test, y_pred, average='weighted')\n",
        "print(f'Recall: {recall}')\n",
        "\n",
        "# F1 Score\n",
        "f1 = f1_score(y_test, y_pred, average='weighted')\n",
        "print(f'F1 Score: {f1}')"
      ],
      "metadata": {
        "colab": {
          "base_uri": "https://localhost:8080/"
        },
        "id": "1ot34DldHSfJ",
        "outputId": "55edcecd-a6df-45dd-8c98-961891843f74"
      },
      "execution_count": null,
      "outputs": [
        {
          "output_type": "stream",
          "name": "stdout",
          "text": [
            "Accuracy: 0.9585269436160622\n",
            "Precision: 0.9586317769484587\n",
            "Recall: 0.9585269436160622\n",
            "F1 Score: 0.9585128209210021\n"
          ]
        }
      ]
    },
    {
      "cell_type": "code",
      "source": [],
      "metadata": {
        "id": "v8TSaon9Hisl"
      },
      "execution_count": null,
      "outputs": []
    }
  ]
}