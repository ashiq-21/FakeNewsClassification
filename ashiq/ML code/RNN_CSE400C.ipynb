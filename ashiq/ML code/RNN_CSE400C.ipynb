{
  "nbformat": 4,
  "nbformat_minor": 0,
  "metadata": {
    "colab": {
      "provenance": []
    },
    "kernelspec": {
      "name": "python3",
      "display_name": "Python 3"
    },
    "language_info": {
      "name": "python"
    }
  },
  "cells": [
    {
      "cell_type": "code",
      "execution_count": null,
      "metadata": {
        "colab": {
          "base_uri": "https://localhost:8080/"
        },
        "id": "4gBRc-fkm7gA",
        "outputId": "604c9bfd-9698-451d-86df-97350db2e702"
      },
      "outputs": [
        {
          "output_type": "stream",
          "name": "stdout",
          "text": [
            "Epoch 1/5\n",
            "1442/1442 [==============================] - 89s 61ms/step - loss: 0.3567 - accuracy: 0.8401 - val_loss: 0.4464 - val_accuracy: 0.8332\n",
            "Epoch 2/5\n",
            "1442/1442 [==============================] - 74s 51ms/step - loss: 0.2763 - accuracy: 0.8872 - val_loss: 0.2915 - val_accuracy: 0.8869\n",
            "Epoch 3/5\n",
            "1442/1442 [==============================] - 78s 54ms/step - loss: 0.2705 - accuracy: 0.8792 - val_loss: 0.4092 - val_accuracy: 0.7740\n",
            "Epoch 4/5\n",
            "1442/1442 [==============================] - 64s 45ms/step - loss: 0.2293 - accuracy: 0.9036 - val_loss: 0.2595 - val_accuracy: 0.9070\n",
            "Epoch 5/5\n",
            "1442/1442 [==============================] - 68s 47ms/step - loss: 0.1995 - accuracy: 0.9220 - val_loss: 0.3114 - val_accuracy: 0.8909\n",
            "451/451 [==============================] - 5s 10ms/step - loss: 0.3121 - accuracy: 0.8919\n",
            "Test Loss: 0.3120773732662201\n",
            "Test Accuracy: 0.8918787837028503\n",
            "1/1 [==============================] - 0s 214ms/step\n",
            "[[0.93859494]]\n"
          ]
        }
      ],
      "source": [
        "import pandas as pd\n",
        "from sklearn.model_selection import train_test_split\n",
        "from sklearn.preprocessing import LabelEncoder\n",
        "from tensorflow.keras.preprocessing.text import Tokenizer\n",
        "from tensorflow.keras.preprocessing.sequence import pad_sequences\n",
        "from tensorflow.keras.models import Sequential\n",
        "from tensorflow.keras.layers import Embedding, SimpleRNN, Dense\n",
        "from tensorflow.keras.callbacks import EarlyStopping\n",
        "\n",
        "# Load the dataset\n",
        "news_df = pd.read_csv(\"/content/drive/MyDrive/Capstone B/WELFake_Dataset.csv\")\n",
        "news_df = news_df[['text', 'label']].dropna()\n",
        "\n",
        "# Encode labels\n",
        "le = LabelEncoder()\n",
        "news_df['label'] = le.fit_transform(news_df['label'])\n",
        "\n",
        "# Split the dataset\n",
        "X_train, X_test, y_train, y_test = train_test_split(\n",
        "    news_df['text'], news_df['label'], test_size=0.20, random_state=19)\n",
        "\n",
        "# Tokenize the text\n",
        "max_words = 5000  # You can adjust this based on your dataset\n",
        "tokenizer = Tokenizer(num_words=max_words, oov_token='<OOV>')\n",
        "tokenizer.fit_on_texts(X_train)\n",
        "\n",
        "# Convert text to sequences\n",
        "X_train_sequences = tokenizer.texts_to_sequences(X_train)\n",
        "X_test_sequences = tokenizer.texts_to_sequences(X_test)\n",
        "\n",
        "# Pad sequences to have consistent length\n",
        "max_sequence_length = 100  # You can adjust this based on your dataset\n",
        "X_train_padded = pad_sequences(X_train_sequences, maxlen=max_sequence_length, padding='post')\n",
        "X_test_padded = pad_sequences(X_test_sequences, maxlen=max_sequence_length, padding='post')\n",
        "\n",
        "# Build the RNN model\n",
        "embedding_dim = 50  # You can adjust this based on your dataset\n",
        "model = Sequential()\n",
        "model.add(Embedding(input_dim=max_words, output_dim=embedding_dim, input_length=max_sequence_length))\n",
        "model.add(SimpleRNN(100))  # SimpleRNN layer\n",
        "model.add(Dense(1, activation='sigmoid'))\n",
        "\n",
        "# Compile the model\n",
        "model.compile(loss='binary_crossentropy', optimizer='adam', metrics=['accuracy'])\n",
        "\n",
        "# Train the model\n",
        "early_stopping = EarlyStopping(patience=3, restore_best_weights=True)\n",
        "model.fit(X_train_padded, y_train, epochs=5, validation_split=0.2, callbacks=[early_stopping])\n",
        "\n",
        "# Evaluate the model\n",
        "loss, accuracy = model.evaluate(X_test_padded, y_test)\n",
        "print(\"Test Loss:\", loss)\n",
        "print(\"Test Accuracy:\", accuracy)\n",
        "\n",
        "# Make predictions on new data\n",
        "news = [\"The left believes these are all perfectly acceptable topics to discuss with our young children...\"]\n",
        "news_sequences = tokenizer.texts_to_sequences(news)\n",
        "news_padded = pad_sequences(news_sequences, maxlen=max_sequence_length, padding='post')\n",
        "prediction = model.predict(news_padded)\n",
        "print(prediction)\n"
      ]
    },
    {
      "cell_type": "code",
      "source": [
        "from google.colab import drive\n",
        "drive.mount('/content/drive')"
      ],
      "metadata": {
        "colab": {
          "base_uri": "https://localhost:8080/"
        },
        "id": "0ZPFI14HptOy",
        "outputId": "f30008ea-3ac2-4aa5-d5fa-6746f2df2b03"
      },
      "execution_count": null,
      "outputs": [
        {
          "output_type": "stream",
          "name": "stdout",
          "text": [
            "Mounted at /content/drive\n"
          ]
        }
      ]
    },
    {
      "cell_type": "code",
      "source": [
        "import matplotlib.pyplot as plt\n",
        "import seaborn as sns\n",
        "from sklearn.metrics import confusion_matrix\n",
        "\n",
        "# Function to plot confusion matrix\n",
        "def plot_confusion_matrix(model, X_test, y_test, labels):\n",
        "    # Make predictions\n",
        "    y_pred = model.predict(X_test)\n",
        "    y_pred_classes = (y_pred > 0.5).astype(int)\n",
        "\n",
        "    # Calculate confusion matrix\n",
        "    cm = confusion_matrix(y_test, y_pred_classes)\n",
        "\n",
        "    # Plot confusion matrix\n",
        "    plt.figure(figsize=(8, 8))\n",
        "    sns.heatmap(cm, annot=True, fmt=\"d\", cmap=\"Blues\", cbar=False, annot_kws={\"size\": 16}, xticklabels=labels, yticklabels=labels)\n",
        "    plt.title('Confusion Matrix')\n",
        "    plt.xlabel('Predicted')\n",
        "    plt.ylabel('Actual')\n",
        "    plt.show()\n",
        "\n",
        "\n",
        "# RNN model\n",
        "# ... (previous RNN code)\n",
        "\n",
        "# Evaluate the RNN model on the test set\n",
        "loss_rnn, accuracy_rnn = model.evaluate(X_test_padded, y_test)\n",
        "print(\"RNN Test Loss:\", loss_rnn)\n",
        "print(\"RNN Test Accuracy:\", accuracy_rnn)\n",
        "\n",
        "# Plot confusion matrix for RNN model\n",
        "plot_confusion_matrix(model, X_test_padded, y_test, labels=['Real', 'Fake'])\n"
      ],
      "metadata": {
        "colab": {
          "base_uri": "https://localhost:8080/",
          "height": 787
        },
        "id": "0eyYockWpjKK",
        "outputId": "c90cf8ae-06fe-4e90-ffe7-fed48364c1ad"
      },
      "execution_count": null,
      "outputs": [
        {
          "output_type": "stream",
          "name": "stdout",
          "text": [
            "451/451 [==============================] - 5s 10ms/step - loss: 0.3121 - accuracy: 0.8919\n",
            "RNN Test Loss: 0.3120773732662201\n",
            "RNN Test Accuracy: 0.8918787837028503\n",
            "451/451 [==============================] - 6s 14ms/step\n"
          ]
        },
        {
          "output_type": "display_data",
          "data": {
            "text/plain": [
              "<Figure size 800x800 with 1 Axes>"
            ],
            "image/png": "[encoded data removed]"
          },
          "metadata": {}
        }
      ]
    },
    {
      "cell_type": "code",
      "source": [
        "from sklearn.metrics import classification_report\n",
        "\n",
        "# Function to print classification report\n",
        "def print_classification_report(model, X_test, y_test):\n",
        "    # Make predictions\n",
        "    y_pred = model.predict(X_test)\n",
        "    y_pred_classes = (y_pred > 0.5).astype(int)\n",
        "\n",
        "    # Print classification report\n",
        "    report = classification_report(y_test, y_pred_classes, target_names=['Real', 'Fake'])\n",
        "    print(\"Classification Report:\\n\", report)\n",
        "\n",
        "\n",
        "# RNN model\n",
        "# ... (previous RNN code)\n",
        "\n",
        "# Evaluate the RNN model on the test set\n",
        "loss_rnn, accuracy_rnn = model.evaluate(X_test_padded, y_test)\n",
        "print(\"RNN Test Loss:\", loss_rnn)\n",
        "print(\"RNN Test Accuracy:\", accuracy_rnn)\n",
        "\n",
        "# Print classification report for RNN model\n",
        "print_classification_report(model, X_test_padded, y_test)\n"
      ],
      "metadata": {
        "colab": {
          "base_uri": "https://localhost:8080/"
        },
        "id": "IyMDeLXR-biQ",
        "outputId": "de970e56-0724-4fef-8521-8d9acc1ecc62"
      },
      "execution_count": null,
      "outputs": [
        {
          "output_type": "stream",
          "name": "stdout",
          "text": [
            "451/451 [==============================] - 7s 15ms/step - loss: 0.3121 - accuracy: 0.8919\n",
            "RNN Test Loss: 0.3120773732662201\n",
            "RNN Test Accuracy: 0.8918787837028503\n",
            "451/451 [==============================] - 5s 10ms/step\n",
            "Classification Report:\n",
            "               precision    recall  f1-score   support\n",
            "\n",
            "        Real       0.88      0.90      0.89      6975\n",
            "        Fake       0.90      0.88      0.89      7444\n",
            "\n",
            "    accuracy                           0.89     14419\n",
            "   macro avg       0.89      0.89      0.89     14419\n",
            "weighted avg       0.89      0.89      0.89     14419\n",
            "\n"
          ]
        }
      ]
    }
  ]
}