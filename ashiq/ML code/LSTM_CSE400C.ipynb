{
  "nbformat": 4,
  "nbformat_minor": 0,
  "metadata": {
    "colab": {
      "provenance": []
    },
    "kernelspec": {
      "name": "python3",
      "display_name": "Python 3"
    },
    "language_info": {
      "name": "python"
    }
  },
  "cells": [
    {
      "cell_type": "code",
      "execution_count": null,
      "metadata": {
        "colab": {
          "base_uri": "https://localhost:8080/"
        },
        "id": "QZxxbKsvlPH5",
        "outputId": "0c3e920f-9f00-4b92-a3b0-0b629b595c0a"
      },
      "outputs": [
        {
          "output_type": "stream",
          "name": "stdout",
          "text": [
            "Epoch 1/5\n",
            "1442/1442 [==============================] - 160s 109ms/step - loss: 0.2488 - accuracy: 0.9007 - val_loss: 0.1789 - val_accuracy: 0.9352\n",
            "Epoch 2/5\n",
            "1442/1442 [==============================] - 153s 106ms/step - loss: 0.1751 - accuracy: 0.9354 - val_loss: 0.1756 - val_accuracy: 0.9366\n",
            "Epoch 3/5\n",
            "1442/1442 [==============================] - 160s 111ms/step - loss: 0.1344 - accuracy: 0.9527 - val_loss: 0.1821 - val_accuracy: 0.9342\n",
            "Epoch 4/5\n",
            "1442/1442 [==============================] - 154s 107ms/step - loss: 0.1119 - accuracy: 0.9608 - val_loss: 0.1711 - val_accuracy: 0.9389\n",
            "Epoch 5/5\n",
            "1442/1442 [==============================] - 155s 108ms/step - loss: 0.0856 - accuracy: 0.9713 - val_loss: 0.1837 - val_accuracy: 0.9386\n",
            "451/451 [==============================] - 13s 29ms/step - loss: 0.1800 - accuracy: 0.9374\n",
            "Test Loss: 0.18003959953784943\n",
            "Test Accuracy: 0.9373742938041687\n",
            "1/1 [==============================] - 1s 555ms/step\n",
            "[[0.97845095]]\n"
          ]
        }
      ],
      "source": [
        "import pandas as pd\n",
        "from sklearn.model_selection import train_test_split\n",
        "from sklearn.preprocessing import LabelEncoder\n",
        "from tensorflow.keras.preprocessing.text import Tokenizer\n",
        "from tensorflow.keras.preprocessing.sequence import pad_sequences\n",
        "from tensorflow.keras.models import Sequential\n",
        "from tensorflow.keras.layers import Embedding, LSTM, Dense\n",
        "from tensorflow.keras.callbacks import EarlyStopping\n",
        "\n",
        "# Load the dataset\n",
        "news_df = pd.read_csv(\"/content/drive/MyDrive/Capstone B/WELFake_Dataset.csv\")\n",
        "news_df = news_df[['text', 'label']].dropna()\n",
        "\n",
        "# Encode labels\n",
        "le = LabelEncoder()\n",
        "news_df['label'] = le.fit_transform(news_df['label'])\n",
        "\n",
        "# Split the dataset\n",
        "X_train, X_test, y_train, y_test = train_test_split(\n",
        "    news_df['text'], news_df['label'], test_size=0.20, random_state=19)\n",
        "\n",
        "# Tokenize the text\n",
        "max_words = 5000  # You can adjust this based on your dataset\n",
        "tokenizer = Tokenizer(num_words=max_words, oov_token='<OOV>')\n",
        "tokenizer.fit_on_texts(X_train)\n",
        "\n",
        "# Convert text to sequences\n",
        "X_train_sequences = tokenizer.texts_to_sequences(X_train)\n",
        "X_test_sequences = tokenizer.texts_to_sequences(X_test)\n",
        "\n",
        "# Pad sequences to have consistent length\n",
        "max_sequence_length = 100  # You can adjust this based on your dataset\n",
        "X_train_padded = pad_sequences(X_train_sequences, maxlen=max_sequence_length, padding='post')\n",
        "X_test_padded = pad_sequences(X_test_sequences, maxlen=max_sequence_length, padding='post')\n",
        "\n",
        "# Build the LSTM model\n",
        "embedding_dim = 50  # You can adjust this based on your dataset\n",
        "model = Sequential()\n",
        "model.add(Embedding(input_dim=max_words, output_dim=embedding_dim, input_length=max_sequence_length))\n",
        "model.add(LSTM(100))\n",
        "model.add(Dense(1, activation='sigmoid'))\n",
        "\n",
        "# Compile the model\n",
        "model.compile(loss='binary_crossentropy', optimizer='adam', metrics=['accuracy'])\n",
        "\n",
        "# Train the model\n",
        "early_stopping = EarlyStopping(patience=3, restore_best_weights=True)\n",
        "model.fit(X_train_padded, y_train, epochs=5, validation_split=0.2, callbacks=[early_stopping])\n",
        "\n",
        "# Evaluate the model\n",
        "loss, accuracy = model.evaluate(X_test_padded, y_test)\n",
        "print(\"Test Loss:\", loss)\n",
        "print(\"Test Accuracy:\", accuracy)\n",
        "\n",
        "# Make predictions on new data\n",
        "news = [\"The left believes these are all perfectly acceptable topics to discuss with our young children...\"]\n",
        "news_sequences = tokenizer.texts_to_sequences(news)\n",
        "news_padded = pad_sequences(news_sequences, maxlen=max_sequence_length, padding='post')\n",
        "prediction = model.predict(news_padded)\n",
        "print(prediction)\n"
      ]
    },
    {
      "cell_type": "code",
      "source": [
        "import matplotlib.pyplot as plt\n",
        "import seaborn as sns\n",
        "from sklearn.metrics import confusion_matrix\n",
        "\n",
        "# Function to plot confusion matrix\n",
        "def plot_confusion_matrix(model, X_test, y_test, labels):\n",
        "    # Make predictions\n",
        "    y_pred = model.predict(X_test)\n",
        "    y_pred_classes = (y_pred > 0.5).astype(int)\n",
        "\n",
        "    # Calculate confusion matrix\n",
        "    cm = confusion_matrix(y_test, y_pred_classes)\n",
        "\n",
        "    # Plot confusion matrix\n",
        "    plt.figure(figsize=(8, 8))\n",
        "    sns.heatmap(cm, annot=True, fmt=\"d\", cmap=\"Blues\", cbar=False, annot_kws={\"size\": 16}, xticklabels=labels, yticklabels=labels)\n",
        "    plt.title('Confusion Matrix')\n",
        "    plt.xlabel('Predicted')\n",
        "    plt.ylabel('Actual')\n",
        "    plt.show()\n",
        "\n",
        "# LSTM model\n",
        "# ... (previous LSTM code)\n",
        "\n",
        "# Evaluate the LSTM model on the test set\n",
        "loss_lstm, accuracy_lstm = model.evaluate(X_test_padded, y_test)\n",
        "print(\"LSTM Test Loss:\", loss_lstm)\n",
        "print(\"LSTM Test Accuracy:\", accuracy_lstm)\n",
        "\n",
        "# Plot confusion matrix for LSTM model\n",
        "plot_confusion_matrix(model, X_test_padded, y_test, labels=['Real', 'Fake'])\n",
        "\n"
      ],
      "metadata": {
        "colab": {
          "base_uri": "https://localhost:8080/",
          "height": 787
        },
        "id": "21eWTzneoy_Q",
        "outputId": "bedd3309-7094-40f3-a06d-8b3d7be32ef1"
      },
      "execution_count": null,
      "outputs": [
        {
          "output_type": "stream",
          "name": "stdout",
          "text": [
            "451/451 [==============================] - 14s 31ms/step - loss: 0.1800 - accuracy: 0.9374\n",
            "LSTM Test Loss: 0.18003959953784943\n",
            "LSTM Test Accuracy: 0.9373742938041687\n",
            "451/451 [==============================] - 15s 33ms/step\n"
          ]
        },
        {
          "output_type": "display_data",
          "data": {
            "text/plain": [
              "<Figure size 800x800 with 1 Axes>"
            ],
            "image/png": "[encoded data removed]"
          },
          "metadata": {}
        }
      ]
    },
    {
      "cell_type": "code",
      "source": [
        "from google.colab import drive\n",
        "drive.mount('/content/drive')"
      ],
      "metadata": {
        "id": "k6j2IWgglbsG"
      },
      "execution_count": null,
      "outputs": []
    },
    {
      "cell_type": "code",
      "source": [
        "from sklearn.metrics import classification_report\n",
        "\n",
        "# Function to print classification report\n",
        "def print_classification_report(model, X_test, y_test):\n",
        "    # Make predictions\n",
        "    y_pred = model.predict(X_test)\n",
        "    y_pred_classes = (y_pred > 0.5).astype(int)\n",
        "\n",
        "    # Print classification report\n",
        "    report = classification_report(y_test, y_pred_classes, target_names=['Real', 'Fake'])\n",
        "    print(\"Classification Report:\\n\", report)\n",
        "\n",
        "# LSTM model\n",
        "# ... (previous LSTM code)\n",
        "\n",
        "# Evaluate the LSTM model on the test set\n",
        "loss_lstm, accuracy_lstm = model.evaluate(X_test_padded, y_test)\n",
        "print(\"LSTM Test Loss:\", loss_lstm)\n",
        "print(\"LSTM Test Accuracy:\", accuracy_lstm)\n",
        "\n",
        "# Print classification report for LSTM model\n",
        "print_classification_report(model, X_test_padded, y_test)\n"
      ],
      "metadata": {
        "colab": {
          "base_uri": "https://localhost:8080/"
        },
        "id": "oeSE0lVn-osy",
        "outputId": "ccb57cbb-06db-466a-db41-d3073ce2f67f"
      },
      "execution_count": null,
      "outputs": [
        {
          "output_type": "stream",
          "name": "stdout",
          "text": [
            "451/451 [==============================] - 14s 31ms/step - loss: 0.1800 - accuracy: 0.9374\n",
            "LSTM Test Loss: 0.18003959953784943\n",
            "LSTM Test Accuracy: 0.9373742938041687\n",
            "451/451 [==============================] - 14s 30ms/step\n",
            "Classification Report:\n",
            "               precision    recall  f1-score   support\n",
            "\n",
            "        Real       0.92      0.95      0.94      6975\n",
            "        Fake       0.95      0.93      0.94      7444\n",
            "\n",
            "    accuracy                           0.94     14419\n",
            "   macro avg       0.94      0.94      0.94     14419\n",
            "weighted avg       0.94      0.94      0.94     14419\n",
            "\n"
          ]
        }
      ]
    }
  ]
}